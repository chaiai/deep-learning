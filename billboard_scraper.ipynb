{
  "nbformat": 4,
  "nbformat_minor": 0,
  "metadata": {
    "colab": {
      "name": "billboard_scraper.ipynb",
      "provenance": [],
      "collapsed_sections": [],
      "mount_file_id": "1jmOvdsLvY4Z_PgJRDhMICJushvTa3eCt",
      "authorship_tag": "ABX9TyNAqhfptOUV0tnWE/+vql0I",
      "include_colab_link": true
    },
    "kernelspec": {
      "name": "python3",
      "display_name": "Python 3"
    }
  },
  "cells": [
    {
      "cell_type": "markdown",
      "metadata": {
        "id": "view-in-github",
        "colab_type": "text"
      },
      "source": [
        "<a href=\"https://colab.research.google.com/github/chaiai/deep-learning/blob/main/billboard_scraper.ipynb\" target=\"_parent\"><img src=\"https://colab.research.google.com/assets/colab-badge.svg\" alt=\"Open In Colab\"/></a>"
      ]
    },
    {
      "cell_type": "markdown",
      "metadata": {
        "id": "YsUTLyW18eeI"
      },
      "source": [
        "https://towardsdatascience.com/web-scraping-metacritic-reviews-using-beautifulsoup-63801bbe200e"
      ]
    },
    {
      "cell_type": "code",
      "metadata": {
        "id": "55RC9VXlHbmj"
      },
      "source": [
        "import requests\n",
        "from bs4 import BeautifulSoup\n",
        "import pandas as pd"
      ],
      "execution_count": null,
      "outputs": []
    },
    {
      "cell_type": "code",
      "metadata": {
        "id": "tCY-ir_3JQQK"
      },
      "source": [
        "url = 'https://www.billboard.com/charts/year-end/2002/top-billboard-200-albums'\n",
        "\n",
        "user_agent = {'User-agent': 'Mozilla/5.0'}\n",
        "response = requests.get(url, headers=user_agent)\n",
        "\n",
        "soup = BeautifulSoup(response.text, 'html.parser')"
      ],
      "execution_count": null,
      "outputs": []
    },
    {
      "cell_type": "code",
      "metadata": {
        "id": "me3fBSneLJan"
      },
      "source": [
        "billboard_dict = {'title':[], 'artist':[], 'rank':[], 'year':[]}"
      ],
      "execution_count": null,
      "outputs": []
    },
    {
      "cell_type": "code",
      "metadata": {
        "id": "L9xvUIbwLjcy"
      },
      "source": [
        "for chart in soup.find_all('div', class_='ye-chart-item__text'):\n",
        "  #billboard_dict['title'].append(chart.find('div', class_='ye-chart-item__title').text)\n",
        "#billboard_dict['title']"
      ],
      "execution_count": null,
      "outputs": []
    },
    {
      "cell_type": "code",
      "metadata": {
        "id": "0zRObc6CM7za",
        "colab": {
          "base_uri": "https://localhost:8080/"
        },
        "outputId": "f8642375-6fdd-40d0-c1fb-b7ac1ee37b17"
      },
      "source": [
        "for chart in soup.find_all('div', class_='chart-details'):\n",
        "  for t in soup.find_all('div', class_='ye-chart-item__text'):\n",
        "    billboard_dict['title'].append(t.find('div', class_='ye-chart-item__title').text)\n",
        "    billboard_dict['artist'].append(t.find('div', class_='ye-chart-item__artist').text)\n",
        "  for r in soup.find_all('div', class_='ye-chart-item__primary-row'):\n",
        "    billboard_dict['rank'].append(r.find('div', class_='ye-chart-item__rank').text)\n",
        "  for y in soup.find_all('span', class_='dropdown dropdown__year-select'):\n",
        "    billboard_dict['year'].append()\n",
        "\n",
        "billboard_dict['year']"
      ],
      "execution_count": null,
      "outputs": [
        {
          "output_type": "execute_result",
          "data": {
            "text/plain": [
              "['2002']"
            ]
          },
          "metadata": {
            "tags": []
          },
          "execution_count": 27
        }
      ]
    },
    {
      "cell_type": "code",
      "metadata": {
        "id": "hGue_taXcYR0"
      },
      "source": [
        "for chart in soup.find_all('div', class_='chart-details'):\n",
        "  for t in soup.find_all('div', class_='ye-chart-item__text'):\n",
        "    billboard_dict['title'].append(t.find('div', class_='ye-chart-item__title').text)\n",
        "    billboard_dict['artist'].append(t.find('div', class_='ye-chart-item__artist').text)\n",
        "  for r in soup.find_all('div', class_='ye-chart-item__primary-row'):\n",
        "    billboard_dict['rank'].append(r.find('div', class_='ye-chart-item__rank').text)\n",
        "  for y in range(2002,2018):\n",
        "    billboard_dict['year'][0:100].append(y)\n",
        "\n",
        "billboard_dict['year']"
      ],
      "execution_count": null,
      "outputs": []
    },
    {
      "cell_type": "code",
      "metadata": {
        "id": "5zt5yUtmiJwO"
      },
      "source": [
        "import itertools\n",
        "years_range = list(range(2002,2018))\n",
        "year_list = []\n",
        "for y in years_range:\n",
        "  year_list.extend(list(itertools.repeat(y, 200)))\n",
        "\n",
        "\n",
        "year_list[-201:]"
      ],
      "execution_count": null,
      "outputs": []
    },
    {
      "cell_type": "code",
      "metadata": {
        "id": "Tavqbva6hshn"
      },
      "source": [
        "import itertools\n",
        "year_list_iter = list(itertools.repeat(2002,200))\n",
        "year_list_iter"
      ],
      "execution_count": null,
      "outputs": []
    },
    {
      "cell_type": "code",
      "metadata": {
        "id": "uIqxxhlFeOf0",
        "colab": {
          "base_uri": "https://localhost:8080/"
        },
        "outputId": "276d08ec-ace2-4726-f931-6f248a0d4fbe"
      },
      "source": [
        "billboard_dict['year'] = []\n",
        "billboard_dict['year']:year_list[1]\n",
        "billboard_dict['year']"
      ],
      "execution_count": null,
      "outputs": [
        {
          "output_type": "execute_result",
          "data": {
            "text/plain": [
              "[]"
            ]
          },
          "metadata": {
            "tags": []
          },
          "execution_count": 56
        }
      ]
    },
    {
      "cell_type": "code",
      "metadata": {
        "id": "JwuV9S8XYMlD"
      },
      "source": [
        "import requests\n",
        "from bs4 import BeautifulSoup\n",
        "\n",
        "import time\n",
        "import random as rand\n",
        "import itertools\n",
        "\n",
        "import pandas as pd\n",
        "\n",
        "billboard_dict = {'title':[], 'artist':[], 'rank':[], 'year':[]}\n",
        "year_list = []\n",
        "\n",
        "for year in range(2002,2018):\n",
        "  url = 'https://www.billboard.com/charts/year-end/'+ str(year) + '/top-billboard-200-albums'\n",
        "  user_agent = {'User-agent': 'Mozilla/5.0'}\n",
        "  response = requests.get(url, headers=user_agent)\n",
        "  time.sleep(3)\n",
        "  soup = BeautifulSoup(response.text, 'html.parser')\n",
        "  title_count = []\n",
        "  for t in soup.find_all('div', class_='ye-chart-item__text'):\n",
        "    title = t.find('div', class_='ye-chart-item__title').text.strip().lower()\n",
        "    billboard_dict['title'].append(title)\n",
        "    billboard_dict['artist'].append(t.find('div', class_='ye-chart-item__artist').text.strip().lower())  \n",
        "    title_count.append(title)\n",
        "  title_count = len(title_count)\n",
        "  year_list.extend(list(itertools.repeat(year, title_count)))\n",
        "  for r in soup.find_all('div', class_='ye-chart-item__primary-row'):\n",
        "    billboard_dict['rank'].append(r.find('div', class_='ye-chart-item__rank').text.strip())\n",
        "\n",
        "billboard_dict['year'].extend(year_list)\n",
        "\n",
        "billboard_dict"
      ],
      "execution_count": null,
      "outputs": []
    },
    {
      "cell_type": "code",
      "metadata": {
        "id": "QviOgTvgNoTT"
      },
      "source": [
        ""
      ],
      "execution_count": null,
      "outputs": []
    },
    {
      "cell_type": "code",
      "metadata": {
        "id": "RFL--fqIa1bk",
        "colab": {
          "base_uri": "https://localhost:8080/"
        },
        "outputId": "53f19916-9be1-4829-af77-cc8ff647d303"
      },
      "source": [
        "billboard_dict.keys()"
      ],
      "execution_count": null,
      "outputs": [
        {
          "output_type": "execute_result",
          "data": {
            "text/plain": [
              "dict_keys(['title', 'artist', 'rank', 'year'])"
            ]
          },
          "metadata": {
            "tags": []
          },
          "execution_count": 5
        }
      ]
    },
    {
      "cell_type": "code",
      "metadata": {
        "id": "fE8s0RjWpneV",
        "colab": {
          "base_uri": "https://localhost:8080/"
        },
        "outputId": "3891b683-4fa6-4fdf-855a-ba10007cb371"
      },
      "source": [
        "print([len(billboard_dict[x]) for x in billboard_dict if isinstance(billboard_dict[x], list)])"
      ],
      "execution_count": null,
      "outputs": [
        {
          "output_type": "stream",
          "text": [
            "[3166, 3166, 3166, 3166]\n"
          ],
          "name": "stdout"
        }
      ]
    },
    {
      "cell_type": "code",
      "metadata": {
        "id": "Tefx-VxG8sB2",
        "colab": {
          "base_uri": "https://localhost:8080/",
          "height": 406
        },
        "outputId": "9c6ec43c-2d16-45af-9cd8-966e3e956403"
      },
      "source": [
        "import pickle\n",
        "billboard_df = pd.DataFrame(billboard_dict)\n",
        "billboard_df.to_pickle('billboard_df.pkl')\n",
        "billboard_df"
      ],
      "execution_count": null,
      "outputs": [
        {
          "output_type": "execute_result",
          "data": {
            "text/html": [
              "<div>\n",
              "<style scoped>\n",
              "    .dataframe tbody tr th:only-of-type {\n",
              "        vertical-align: middle;\n",
              "    }\n",
              "\n",
              "    .dataframe tbody tr th {\n",
              "        vertical-align: top;\n",
              "    }\n",
              "\n",
              "    .dataframe thead th {\n",
              "        text-align: right;\n",
              "    }\n",
              "</style>\n",
              "<table border=\"1\" class=\"dataframe\">\n",
              "  <thead>\n",
              "    <tr style=\"text-align: right;\">\n",
              "      <th></th>\n",
              "      <th>title</th>\n",
              "      <th>artist</th>\n",
              "      <th>rank</th>\n",
              "      <th>year</th>\n",
              "    </tr>\n",
              "  </thead>\n",
              "  <tbody>\n",
              "    <tr>\n",
              "      <th>0</th>\n",
              "      <td>the eminem show</td>\n",
              "      <td>eminem</td>\n",
              "      <td>1</td>\n",
              "      <td>2002</td>\n",
              "    </tr>\n",
              "    <tr>\n",
              "      <th>1</th>\n",
              "      <td>weathered</td>\n",
              "      <td>creed</td>\n",
              "      <td>2</td>\n",
              "      <td>2002</td>\n",
              "    </tr>\n",
              "    <tr>\n",
              "      <th>2</th>\n",
              "      <td>nellyville</td>\n",
              "      <td>nelly</td>\n",
              "      <td>3</td>\n",
              "      <td>2002</td>\n",
              "    </tr>\n",
              "    <tr>\n",
              "      <th>3</th>\n",
              "      <td>m!ssundaztood</td>\n",
              "      <td>p!nk</td>\n",
              "      <td>4</td>\n",
              "      <td>2002</td>\n",
              "    </tr>\n",
              "    <tr>\n",
              "      <th>4</th>\n",
              "      <td>[hybrid theory]</td>\n",
              "      <td>linkin park</td>\n",
              "      <td>5</td>\n",
              "      <td>2002</td>\n",
              "    </tr>\n",
              "    <tr>\n",
              "      <th>...</th>\n",
              "      <td>...</td>\n",
              "      <td>...</td>\n",
              "      <td>...</td>\n",
              "      <td>...</td>\n",
              "    </tr>\n",
              "    <tr>\n",
              "      <th>3161</th>\n",
              "      <td>sing it now: songs of faith &amp; hope</td>\n",
              "      <td>reba mcentire</td>\n",
              "      <td>196</td>\n",
              "      <td>2017</td>\n",
              "    </tr>\n",
              "    <tr>\n",
              "      <th>3162</th>\n",
              "      <td>beyonce</td>\n",
              "      <td>beyonce</td>\n",
              "      <td>197</td>\n",
              "      <td>2017</td>\n",
              "    </tr>\n",
              "    <tr>\n",
              "      <th>3163</th>\n",
              "      <td>the ultimate hits</td>\n",
              "      <td>garth brooks</td>\n",
              "      <td>198</td>\n",
              "      <td>2017</td>\n",
              "    </tr>\n",
              "    <tr>\n",
              "      <th>3164</th>\n",
              "      <td>the breaker</td>\n",
              "      <td>little big town</td>\n",
              "      <td>199</td>\n",
              "      <td>2017</td>\n",
              "    </tr>\n",
              "    <tr>\n",
              "      <th>3165</th>\n",
              "      <td>heart break</td>\n",
              "      <td>lady antebellum</td>\n",
              "      <td>200</td>\n",
              "      <td>2017</td>\n",
              "    </tr>\n",
              "  </tbody>\n",
              "</table>\n",
              "<p>3166 rows × 4 columns</p>\n",
              "</div>"
            ],
            "text/plain": [
              "                                   title           artist rank  year\n",
              "0                        the eminem show           eminem    1  2002\n",
              "1                              weathered            creed    2  2002\n",
              "2                             nellyville            nelly    3  2002\n",
              "3                          m!ssundaztood             p!nk    4  2002\n",
              "4                        [hybrid theory]      linkin park    5  2002\n",
              "...                                  ...              ...  ...   ...\n",
              "3161  sing it now: songs of faith & hope    reba mcentire  196  2017\n",
              "3162                             beyonce          beyonce  197  2017\n",
              "3163                   the ultimate hits     garth brooks  198  2017\n",
              "3164                         the breaker  little big town  199  2017\n",
              "3165                         heart break  lady antebellum  200  2017\n",
              "\n",
              "[3166 rows x 4 columns]"
            ]
          },
          "metadata": {
            "tags": []
          },
          "execution_count": 8
        }
      ]
    },
    {
      "cell_type": "code",
      "metadata": {
        "id": "ckt58CfM4QB2"
      },
      "source": [
        "!cp billboard_df.pkl '/content/drive/MyDrive/Projects/pitchfork'"
      ],
      "execution_count": null,
      "outputs": []
    },
    {
      "cell_type": "code",
      "metadata": {
        "colab": {
          "base_uri": "https://localhost:8080/",
          "height": 406
        },
        "id": "z3o-p752OKft",
        "outputId": "7debd818-1607-4596-d57d-4e1abe94f5c4"
      },
      "source": [
        "billboard_df.loc[billboard_df['year'] == 2016]"
      ],
      "execution_count": null,
      "outputs": [
        {
          "output_type": "execute_result",
          "data": {
            "text/html": [
              "<div>\n",
              "<style scoped>\n",
              "    .dataframe tbody tr th:only-of-type {\n",
              "        vertical-align: middle;\n",
              "    }\n",
              "\n",
              "    .dataframe tbody tr th {\n",
              "        vertical-align: top;\n",
              "    }\n",
              "\n",
              "    .dataframe thead th {\n",
              "        text-align: right;\n",
              "    }\n",
              "</style>\n",
              "<table border=\"1\" class=\"dataframe\">\n",
              "  <thead>\n",
              "    <tr style=\"text-align: right;\">\n",
              "      <th></th>\n",
              "      <th>title</th>\n",
              "      <th>artist</th>\n",
              "      <th>rank</th>\n",
              "      <th>year</th>\n",
              "    </tr>\n",
              "  </thead>\n",
              "  <tbody>\n",
              "    <tr>\n",
              "      <th>2766</th>\n",
              "      <td>25</td>\n",
              "      <td>Adele</td>\n",
              "      <td>1</td>\n",
              "      <td>2016</td>\n",
              "    </tr>\n",
              "    <tr>\n",
              "      <th>2767</th>\n",
              "      <td>Views</td>\n",
              "      <td>Drake</td>\n",
              "      <td>2</td>\n",
              "      <td>2016</td>\n",
              "    </tr>\n",
              "    <tr>\n",
              "      <th>2768</th>\n",
              "      <td>Purpose</td>\n",
              "      <td>Justin Bieber</td>\n",
              "      <td>3</td>\n",
              "      <td>2016</td>\n",
              "    </tr>\n",
              "    <tr>\n",
              "      <th>2769</th>\n",
              "      <td>Lemonade</td>\n",
              "      <td>Beyonce</td>\n",
              "      <td>4</td>\n",
              "      <td>2016</td>\n",
              "    </tr>\n",
              "    <tr>\n",
              "      <th>2770</th>\n",
              "      <td>ANTI</td>\n",
              "      <td>Rihanna</td>\n",
              "      <td>5</td>\n",
              "      <td>2016</td>\n",
              "    </tr>\n",
              "    <tr>\n",
              "      <th>...</th>\n",
              "      <td>...</td>\n",
              "      <td>...</td>\n",
              "      <td>...</td>\n",
              "      <td>...</td>\n",
              "    </tr>\n",
              "    <tr>\n",
              "      <th>2961</th>\n",
              "      <td>Letters From The Labyrinth</td>\n",
              "      <td>Trans-Siberian Orchestra</td>\n",
              "      <td>196</td>\n",
              "      <td>2016</td>\n",
              "    </tr>\n",
              "    <tr>\n",
              "      <th>2962</th>\n",
              "      <td>California Sunrise</td>\n",
              "      <td>Jon Pardi</td>\n",
              "      <td>197</td>\n",
              "      <td>2016</td>\n",
              "    </tr>\n",
              "    <tr>\n",
              "      <th>2963</th>\n",
              "      <td>Stages</td>\n",
              "      <td>Josh Groban</td>\n",
              "      <td>198</td>\n",
              "      <td>2016</td>\n",
              "    </tr>\n",
              "    <tr>\n",
              "      <th>2964</th>\n",
              "      <td>BLACKsummers'night</td>\n",
              "      <td>Maxwell</td>\n",
              "      <td>199</td>\n",
              "      <td>2016</td>\n",
              "    </tr>\n",
              "    <tr>\n",
              "      <th>2965</th>\n",
              "      <td>1999</td>\n",
              "      <td>Prince</td>\n",
              "      <td>200</td>\n",
              "      <td>2016</td>\n",
              "    </tr>\n",
              "  </tbody>\n",
              "</table>\n",
              "<p>200 rows × 4 columns</p>\n",
              "</div>"
            ],
            "text/plain": [
              "                           title                    artist rank  year\n",
              "2766                          25                     Adele    1  2016\n",
              "2767                       Views                     Drake    2  2016\n",
              "2768                     Purpose             Justin Bieber    3  2016\n",
              "2769                    Lemonade                   Beyonce    4  2016\n",
              "2770                        ANTI                   Rihanna    5  2016\n",
              "...                          ...                       ...  ...   ...\n",
              "2961  Letters From The Labyrinth  Trans-Siberian Orchestra  196  2016\n",
              "2962          California Sunrise                 Jon Pardi  197  2016\n",
              "2963                      Stages               Josh Groban  198  2016\n",
              "2964          BLACKsummers'night                   Maxwell  199  2016\n",
              "2965                        1999                    Prince  200  2016\n",
              "\n",
              "[200 rows x 4 columns]"
            ]
          },
          "metadata": {
            "tags": []
          },
          "execution_count": 41
        }
      ]
    },
    {
      "cell_type": "code",
      "metadata": {
        "id": "cI-h_UjwOLk8"
      },
      "source": [
        "billboard_df.artist.unique()"
      ],
      "execution_count": null,
      "outputs": []
    },
    {
      "cell_type": "code",
      "metadata": {
        "id": "fctAr8IjYv_e"
      },
      "source": [
        ""
      ],
      "execution_count": null,
      "outputs": []
    }
  ]
}